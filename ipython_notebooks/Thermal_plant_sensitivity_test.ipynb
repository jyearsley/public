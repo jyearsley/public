{
 "cells": [
  {
   "cell_type": "markdown",
   "metadata": {},
   "source": [
    "# -----------------------------------------------------------------------------------------\n",
    "#\n",
    "#      Thermal Sensitivity Analysis Script\n",
    "#\n",
    "# -----------------------------------------------------------------------------------------"
   ]
  },
  {
   "cell_type": "code",
   "execution_count": 126,
   "metadata": {
    "collapsed": true
   },
   "outputs": [],
   "source": [
    "# To Do:\n",
    "#  1) use leopold parameters to estimate stream depth from Q\n",
    "#  1B) verify your input variables (especially vapor pressure)\n",
    "#  2) refine the power plant efficiency function\n",
    "#  3) simulate based on a range of values based on previous empirical analysis"
   ]
  },
  {
   "cell_type": "markdown",
   "metadata": {},
   "source": [
    "# -----------------------------------------------------------------------------------------\n",
    "#    Upload Packages\n",
    "# -----------------------------------------------------------------------------------------"
   ]
  },
  {
   "cell_type": "code",
   "execution_count": 1,
   "metadata": {
    "collapsed": true
   },
   "outputs": [],
   "source": [
    "import sys\n",
    "import numpy as np\n",
    "import xray\n",
    "import datetime as dt\n",
    "import pandas as pd\n",
    "import matplotlib.pyplot as plt\n",
    "import os\n",
    "from math import exp, expm1\n",
    "% matplotlib inline"
   ]
  },
  {
   "cell_type": "markdown",
   "metadata": {},
   "source": [
    "# -----------------------------------------------------------------------------------------\n",
    "#    Define Constants\n",
    "# -----------------------------------------------------------------------------------------"
   ]
  },
  {
   "cell_type": "code",
   "execution_count": 2,
   "metadata": {
    "collapsed": true
   },
   "outputs": [],
   "source": [
    "evap_coeff=1.5e-9 # evaporation coefficient\n",
    "pf=0.640 # not sure\n",
    "c_p=0.0000041484 # heat capacity of water in MegaJoules/gram*degC\n",
    "c_p_j= 4148.4 # heat capacity of water in Joules/kg*degC\n",
    "water_density = 1000 # kg/m3\n",
    "MW_to_Jsec = 1000000 # converts MW to Joules/sec\n",
    "kcal_to_J = 4184"
   ]
  },
  {
   "cell_type": "markdown",
   "metadata": {},
   "source": [
    "# -----------------------------------------------------------------------------------------\n",
    "#    Define Input Variables\n",
    "# -----------------------------------------------------------------------------------------"
   ]
  },
  {
   "cell_type": "code",
   "execution_count": 88,
   "metadata": {
    "collapsed": false
   },
   "outputs": [],
   "source": [
    "#Q(m3/sec), depth(m), T_stream(deg C), dbt (deg C), vapor_pressure (mb), q_ns (kcal/m2*sec), q_na (kcal/m2*sec), \n",
    "#    wind (m/sec), power plant output (MW), hour power plant effluent is discharged (hr), time step (hr)\n",
    "#input_vars = pd.DataFrame([50,  2,  10,  12, 900,  0.02, 0.05,  2, 100, 2,  1])\n",
    "#input_vars = pd.DataFrame([50,  2,  10,  15, 900,  0.02, 0.05,  2, 1000, 2, 1])\n",
    "input_vars = pd.DataFrame([1000,  2,  10,  15, 900,  0.02, 0.05,  2, 0, 5, 1])\n",
    "input_vars = input_vars.transpose()\n",
    "input_vars.columns = ['Q','depth','T_stream_i','T_dry_bulb','vap_press','q_ns','q_na','wind','power_plant', 'power_plant_hr', 'time_step']\n",
    "hr1 = 1 # first hours\n",
    "hr2 = 20 # final hour"
   ]
  },
  {
   "cell_type": "markdown",
   "metadata": {},
   "source": [
    "# -----------------------------------------------------------------------------------------\n",
    "#    Define Functions\n",
    "# -----------------------------------------------------------------------------------------"
   ]
  },
  {
   "cell_type": "code",
   "execution_count": 4,
   "metadata": {
    "collapsed": false
   },
   "outputs": [],
   "source": [
    "def calc_surf_energy(T_i,dbt,ea, q_ns, q_na, wind):\n",
    "    \n",
    "    \"\"\"\n",
    "    Based on River Basin Model (RBM) 'Energy.f90' subroutine. \n",
    "    \n",
    "    \"\"\"\n",
    "    \n",
    "    # do linear fit of temperature between two T_fit\n",
    "    T_fit = []\n",
    "    T_fit.append(T_i - 1.0)\n",
    "    T_fit.append(T_i + 1.0)\n",
    "    \n",
    "    q_fit = [] # q_fit empty list\n",
    "\n",
    "    \n",
    "    for i in range(0,2):\n",
    "        # calculate energy from evaporation\n",
    "        e0 = 2.1718e8*exp((-4157.0) /(T_fit[i] + 239.09)) # calc saturation vap pressure\n",
    "        lvp = 597 - (0.57 * T_fit[i])\n",
    "                        # calc latent heat of vapor\n",
    "        q_evap=1000.*lvp*evap_coeff*wind\n",
    "        if q_evap.values < 0: \n",
    "            q_evap=0\n",
    "        q_evap=q_evap*(e0-ea)\n",
    "\n",
    "        # calculate energy tranfser from convection\n",
    "        rb=pf*(dbt-T_fit[i])\n",
    "        q_conv=rb*q_evap\n",
    "\n",
    "        # calculate loss of land surface longwave radiation\n",
    "        q_ws=6.693e-2 + 1.471e-3 * T_fit[i]\n",
    "\n",
    "        # calculate all energy components (units = kcal/sec*m2) \n",
    "        #q_fit(i)=q_ns+q_na-q_ws-q_evap+q_conv\n",
    "        q_fit.append(q_ns + q_na - q_ws - q_evap + q_conv)\n",
    "#\n",
    "#     q=AT+B\n",
    "#\n",
    "#     Linear fit over the range of 2.0 deg C.\n",
    "#     These results can be used to estimate the \"equilibrium\" \n",
    "#     temperature and linear rate constant.\n",
    "#\n",
    "    A= (q_fit[0] - q_fit[1]) / (T_fit[0] - T_fit[1])\n",
    "    q_surf=0.5*(q_fit[0]+q_fit[1])\n",
    "    B=(q_surf/A)-(T_fit[0]+T_fit[1])/2\n",
    "\n",
    "    # calculate equilibrium temperature and k_coefficient               \n",
    "    T_equil = (-1)*(B/A)  # deg C\n",
    "    k_coeff = (q_surf + T_equil)/((T_fit[0]+T_fit[1])/2 ) #kcal/sec * m2 * deg C\n",
    "\n",
    "    return q_surf, T_equil, k_coeff\n"
   ]
  },
  {
   "cell_type": "code",
   "execution_count": 5,
   "metadata": {
    "collapsed": true
   },
   "outputs": [],
   "source": [
    "def power_plant_efficiency(q_power):\n",
    "    q_power = q_power * 0.35\n",
    "    \n",
    "    return q_power"
   ]
  },
  {
   "cell_type": "code",
   "execution_count": 66,
   "metadata": {
    "collapsed": true
   },
   "outputs": [],
   "source": [
    "def calc_power_energy(T_stream, T_eq, k_coeff, q_power, Q, depth, impulse_fxn, hrx, time_stepx):\n",
    "    \n",
    "    \"\"\"\n",
    "    \n",
    "    Equation based on Edenger et al. (1968), equation #19\n",
    "    \n",
    "    \"\"\"\n",
    "    \n",
    "    \n",
    "    hrx = hrx - 1 # to match the python index system where 0 is first index\n",
    "    q_power = q_power * MW_to_Jsec # convert from MW to Joules per second\n",
    "    power_x  = (q_power * impulse_fxn[hrx])/(water_density*c_p_j*Q)\n",
    "    k_coeff = k_coeff * kcal_to_J # convert kcal to Joules\n",
    "    k_coeff2 = k_coeff/(water_density * c_p_j*depth) \n",
    "    k_coeff2 = k_coeff2 * 60*60 # calculate # of seconds \n",
    "    stream_x = k_coeff2 * (T_eq - T_stream) \n",
    "    dT = stream_x + power_x\n",
    "    dT = dT*time_stepx\n",
    "    T_new = dT + T_stream\n",
    "    \n",
    "    return T_new"
   ]
  },
  {
   "cell_type": "code",
   "execution_count": 7,
   "metadata": {
    "collapsed": false
   },
   "outputs": [],
   "source": [
    "def impseq(n0,n1,n2):\n",
    "    \"\"\"\n",
    "   Returns Impulse Sequence Response\n",
    "   n0: day of impulse (power plant input)\n",
    "   n1: first day (typically 1)\n",
    "   n2: last day\n",
    "   \"\"\"\n",
    "    if (n0 < n1) or (n0 > n2) or (n1 > n2):\n",
    "        print('Arguments must satisfy n1 <= n0 <= n2')\n",
    "        return\n",
    "    n = [0] * (n2 - n1 + 1)\n",
    "    n[n0-1] = 1 \n",
    "    return n"
   ]
  },
  {
   "cell_type": "code",
   "execution_count": 134,
   "metadata": {
    "collapsed": true
   },
   "outputs": [],
   "source": [
    "input_vars = pd.DataFrame([1000,  5,  10,  35, 1400,  0.02, 0.05,  2, 0, 5, 0.01])\n",
    "input_vars = input_vars.transpose()\n",
    "input_vars.columns = ['Q','depth','T_stream_i','T_dry_bulb','vap_press','q_ns','q_na','wind','power_plant', 'power_plant_hr', 'time_step']\n"
   ]
  },
  {
   "cell_type": "code",
   "execution_count": 135,
   "metadata": {
    "collapsed": false,
    "scrolled": true
   },
   "outputs": [],
   "source": [
    "# --------------------------------------------------\n",
    "#  loop through hours \n",
    "# ---------------------------------------\n",
    "\n",
    "# ----- establish time series with power plant impulse\n",
    "impulse_time_series = impseq(int(input_vars['power_plant_hr'][0]),hr1,hr2)\n",
    "\n",
    "first_run = True\n",
    "T_stream_list = []\n",
    "\n",
    "for i in range(len(impulse_time_series)):\n",
    "    \n",
    "    steps_per_hr = list(range(1,int(1/input_vars['time_step'])))\n",
    "\n",
    "    #print(len(steps_per_hr))\n",
    "    if len(steps_per_hr) < 1:\n",
    "        steps_per_hr =  list([1])\n",
    "    #print(steps_per_hr)\n",
    "    for j in steps_per_hr:\n",
    "    \n",
    "        # -------------- establish initial stream temperature ------------\n",
    "        if first_run:\n",
    "            T_stream_x = input_vars['T_stream_i']\n",
    "            first_run = False\n",
    "\n",
    "        # ------------ use previous temperature for stream T ----------\n",
    "        else:\n",
    "            T_stream_x = T_stream_new\n",
    "\n",
    "        # ------------- calculate surface energy, T_equil., and k_coeff -------    \n",
    "        q_surf, T_eq, k_coeff = calc_surf_energy(T_stream_x,input_vars['T_dry_bulb'],input_vars['vap_press'],\n",
    "                                             input_vars['q_ns'],input_vars['q_na'],input_vars['wind'])\n",
    "        \n",
    "        # -------------------- calculate power plant efficiency ----------------\n",
    "        q_power = power_plant_efficiency(input_vars['power_plant'].values)\n",
    "\n",
    "        # ------------------- calculate change in stream T from power plant and T_equil ----------\n",
    "        T_stream_new = calc_power_energy(T_stream_x, T_eq, k_coeff, q_power, \n",
    "                                     input_vars['Q'].values, input_vars['depth'], impulse_time_series, i,input_vars['time_step'] )\n",
    "        T_stream_list.append(T_stream_new)     "
   ]
  },
  {
   "cell_type": "code",
   "execution_count": 136,
   "metadata": {
    "collapsed": false
   },
   "outputs": [
    {
     "data": {
      "text/plain": [
       "<matplotlib.text.Text at 0x2b5668d58f98>"
      ]
     },
     "execution_count": 136,
     "metadata": {},
     "output_type": "execute_result"
    },
    {
     "data": {
      "image/png": "[encoded data removed]",
      "text/plain": [
       "<matplotlib.figure.Figure at 0x2b5668e54208>"
      ]
     },
     "metadata": {},
     "output_type": "display_data"
    }
   ],
   "source": [
    "plt.title('practice')\n",
    "plt.plot(T_stream_list)\n",
    "plt.xlabel('time (hours)')\n",
    "plt.ylabel('stream T (deg C)')"
   ]
  },
  {
   "cell_type": "code",
   "execution_count": 105,
   "metadata": {
    "collapsed": false
   },
   "outputs": [
    {
     "data": {
      "text/plain": [
       "[1, 2, 3, 4]"
      ]
     },
     "execution_count": 105,
     "metadata": {},
     "output_type": "execute_result"
    }
   ],
   "source": [
    "list(range(1,5))"
   ]
  },
  {
   "cell_type": "code",
   "execution_count": 90,
   "metadata": {
    "collapsed": false
   },
   "outputs": [
    {
     "data": {
      "text/plain": [
       "<matplotlib.text.Text at 0x2b5668734470>"
      ]
     },
     "execution_count": 90,
     "metadata": {},
     "output_type": "execute_result"
    },
    {
     "data": {
      "image/png": "[encoded data removed]",
      "text/plain": [
       "<matplotlib.figure.Figure at 0x2b56686d6a58>"
      ]
     },
     "metadata": {},
     "output_type": "display_data"
    }
   ],
   "source": [
    "plt.title('time step = 1 hour')\n",
    "plt.plot(T_stream_list)\n",
    "plt.xlabel('time (hours)')\n",
    "plt.ylabel('stream T (deg C)')"
   ]
  },
  {
   "cell_type": "code",
   "execution_count": 93,
   "metadata": {
    "collapsed": false
   },
   "outputs": [
    {
     "data": {
      "text/plain": [
       "<matplotlib.text.Text at 0x2b566871dc50>"
      ]
     },
     "execution_count": 93,
     "metadata": {},
     "output_type": "execute_result"
    },
    {
     "data": {
      "image/png": "[encoded data removed]",
      "text/plain": [
       "<matplotlib.figure.Figure at 0x2b5668739400>"
      ]
     },
     "metadata": {},
     "output_type": "display_data"
    }
   ],
   "source": [
    "plt.title('time step = 0.5 hour')\n",
    "plt.plot(T_stream_list)\n",
    "plt.xlabel('time (hours)')\n",
    "plt.ylabel('stream T (deg C)')"
   ]
  },
  {
   "cell_type": "code",
   "execution_count": 96,
   "metadata": {
    "collapsed": false
   },
   "outputs": [
    {
     "data": {
      "text/plain": [
       "<matplotlib.text.Text at 0x2b5668827630>"
      ]
     },
     "execution_count": 96,
     "metadata": {},
     "output_type": "execute_result"
    },
    {
     "data": {
      "image/png": "[encoded data removed]",
      "text/plain": [
       "<matplotlib.figure.Figure at 0x2b56687b0b00>"
      ]
     },
     "metadata": {},
     "output_type": "display_data"
    }
   ],
   "source": [
    "plt.title('time step = 0.1 hour')\n",
    "plt.plot(T_stream_list)\n",
    "plt.xlabel('time (hours)')\n",
    "plt.ylabel('stream T (deg C)')"
   ]
  },
  {
   "cell_type": "code",
   "execution_count": null,
   "metadata": {
    "collapsed": true
   },
   "outputs": [],
   "source": []
  },
  {
   "cell_type": "code",
   "execution_count": 117,
   "metadata": {
    "collapsed": false
   },
   "outputs": [
    {
     "data": {
      "text/plain": [
       "<matplotlib.text.Text at 0x2b5668a3c2b0>"
      ]
     },
     "execution_count": 117,
     "metadata": {},
     "output_type": "execute_result"
    },
    {
     "data": {
      "image/png": "[encoded data removed]",
      "text/plain": [
       "<matplotlib.figure.Figure at 0x2b5668b03940>"
      ]
     },
     "metadata": {},
     "output_type": "display_data"
    }
   ],
   "source": [
    "plt.title('time step = 0.1 hour, 0.1 m depth')\n",
    "plt.plot(T_stream_list)\n",
    "plt.xlabel('time (hours)')\n",
    "plt.ylabel('stream T (deg C)')"
   ]
  },
  {
   "cell_type": "code",
   "execution_count": 113,
   "metadata": {
    "collapsed": false
   },
   "outputs": [
    {
     "data": {
      "text/plain": [
       "<matplotlib.text.Text at 0x2b5668a62b38>"
      ]
     },
     "execution_count": 113,
     "metadata": {},
     "output_type": "execute_result"
    },
    {
     "data": {
      "image/png": "[encoded data removed]",
      "text/plain": [
       "<matplotlib.figure.Figure at 0x2b5668620ba8>"
      ]
     },
     "metadata": {},
     "output_type": "display_data"
    }
   ],
   "source": [
    "plt.title('time step = 0.05 hour, 0.1 m depth')\n",
    "plt.plot(T_stream_list)\n",
    "plt.xlabel('time (hours)')\n",
    "plt.ylabel('stream T (deg C)')"
   ]
  },
  {
   "cell_type": "code",
   "execution_count": null,
   "metadata": {
    "collapsed": true
   },
   "outputs": [],
   "source": []
  },
  {
   "cell_type": "markdown",
   "metadata": {},
   "source": [
    "# --------------------------------------------------------------------------\n",
    "#         Practice (Extra) code\n",
    "# --------------------------------------------------------------------------"
   ]
  },
  {
   "cell_type": "code",
   "execution_count": 76,
   "metadata": {
    "collapsed": true
   },
   "outputs": [],
   "source": [
    "def calc_power_energy(T_stream, T_eq, k_coeff, q_power, Q, impulse_fxn, hrx):\n",
    "    print('power input: ', q_power, 'impulse: ',  impulse_fxn[hrx-1], 'water_dense: ',water_density, 'cp',c_p_j,'Q: ', Q)\n",
    "    hrx = hrx - 1 # to match the python index system where 0 is first index\n",
    "    power_x  = (q_power * impulse_fxn[hrx])/(water_density*c_p_j*Q)\n",
    "    stream_x = k_coeff * (T_eq - T_stream)\n",
    "    dT = stream_x + power_x\n",
    "    print('power: ',power_x,'stream_x: ',stream_x.values, 'dT: ',dT.values)\n",
    "    T_new = dT + T_stream\n",
    "    \n",
    "    return T_new"
   ]
  },
  {
   "cell_type": "code",
   "execution_count": 67,
   "metadata": {
    "collapsed": false
   },
   "outputs": [
    {
     "data": {
      "text/plain": [
       "[1, 0, 0, 0, 0, 0, 0, 0, 0, 0]"
      ]
     },
     "execution_count": 67,
     "metadata": {},
     "output_type": "execute_result"
    }
   ],
   "source": [
    "q_surf, T_eq, k_coeff = calc_surf_energy(input_vars['T_stream_i'],input_vars['T_dry_bulb'],input_vars['vap_press'],\n",
    "                                         input_vars['q_ns'],input_vars['q_na'],input_vars['wind'])\n",
    "\n",
    "dayx = 1\n",
    "impulse_fxn = impseq(dayx,1,10)\n",
    "T_stream_new = calc_power_energy(input_vars['T_stream_i'].values, T_eq, k_coeff, input_vars['power_plant'].values, \n",
    "                                 input_vars['Q'].values, impulse_fxn, dayx)\n",
    "print(T_stream_new)"
   ]
  },
  {
   "cell_type": "code",
   "execution_count": 72,
   "metadata": {
    "collapsed": false
   },
   "outputs": [
    {
     "name": "stdout",
     "output_type": "stream",
     "text": [
      "power input:  10000 impulse:  1 water_dense:  1000 cp 4148.4 Q:  [ 50.]\n",
      "power:  [  4.82113586e-05] stream_x:  0    0.373923\n",
      "dtype: float64\n"
     ]
    }
   ],
   "source": [
    "impulse_time_series = impseq(1,hr1,hr2)\n",
    "\n",
    "q_surf, T_eq, k_coeff = calc_surf_energy(input_vars['T_stream_i'],input_vars['T_dry_bulb'],input_vars['vap_press'],\n",
    "                            input_vars['q_ns'],input_vars['q_na'],input_vars['wind'])\n",
    "\n",
    "T_stream_new = calc_power_energy(input_vars['T_stream_i'], T_eq, k_coeff, 10000, \n",
    "                             input_vars['Q'].values, impulse_time_series, 1)\n",
    "#print(input_vars['T_stream_i'].values, T_stream_new.values)"
   ]
  },
  {
   "cell_type": "code",
   "execution_count": 68,
   "metadata": {
    "collapsed": false
   },
   "outputs": [
    {
     "ename": "SyntaxError",
     "evalue": "invalid syntax (<ipython-input-68-786fb29d0af1>, line 1)",
     "output_type": "error",
     "traceback": [
      "\u001b[0;36m  File \u001b[0;32m\"<ipython-input-68-786fb29d0af1>\"\u001b[0;36m, line \u001b[0;32m1\u001b[0m\n\u001b[0;31m    read(38,*) z, T_i, dbt,ea, q_ns, q_na, wind\u001b[0m\n\u001b[0m             ^\u001b[0m\n\u001b[0;31mSyntaxError\u001b[0m\u001b[0;31m:\u001b[0m invalid syntax\n"
     ]
    }
   ],
   "source": [
    "              read(38,*) z, T_i, dbt,ea, q_ns, q_na, wind\n",
    "              call energy(T_i, q_surf, dbt, ea,q_ns, q_na, wind, T_equil, k_coeff)\n",
    "              q_dot=(q_surf/(z*rfac))\n",
    "              q_surf_tot = q_surf_tot + q_dot*dt_calc ! adding up surface energy\n"
   ]
  },
  {
   "cell_type": "code",
   "execution_count": null,
   "metadata": {
    "collapsed": true
   },
   "outputs": [],
   "source": []
  },
  {
   "cell_type": "code",
   "execution_count": null,
   "metadata": {
    "collapsed": true
   },
   "outputs": [],
   "source": []
  },
  {
   "cell_type": "code",
   "execution_count": null,
   "metadata": {
    "collapsed": true
   },
   "outputs": [],
   "source": []
  },
  {
   "cell_type": "code",
   "execution_count": null,
   "metadata": {
    "collapsed": true
   },
   "outputs": [],
   "source": []
  },
  {
   "cell_type": "code",
   "execution_count": null,
   "metadata": {
    "collapsed": true
   },
   "outputs": [],
   "source": []
  }
 ],
 "metadata": {
  "anaconda-cloud": {},
  "kernelspec": {
   "display_name": "Python [conda env:my_env]",
   "language": "python",
   "name": "conda-env-my_env-py"
  },
  "language_info": {
   "codemirror_mode": {
    "name": "ipython",
    "version": 3
   },
   "file_extension": ".py",
   "mimetype": "text/x-python",
   "name": "python",
   "nbconvert_exporter": "python",
   "pygments_lexer": "ipython3",
   "version": "3.4.5"
  }
 },
 "nbformat": 4,
 "nbformat_minor": 1
}
